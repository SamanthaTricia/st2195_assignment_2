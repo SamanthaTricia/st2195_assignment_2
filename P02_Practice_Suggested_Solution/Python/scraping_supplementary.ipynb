{
 "cells": [
  {
   "cell_type": "markdown",
   "id": "40d23c61",
   "metadata": {},
   "source": [
    "### Load Libraries"
   ]
  },
  {
   "cell_type": "code",
   "execution_count": null,
   "id": "8bd3b50f",
   "metadata": {},
   "outputs": [],
   "source": [
    "# Import/load libraries\n",
    "\n",
    "from bs4 import BeautifulSoup\n",
    "import pandas as pd\n",
    "import requests\n",
    "import csv"
   ]
  },
  {
   "cell_type": "markdown",
   "id": "af6f63ab",
   "metadata": {},
   "source": [
    "### Using BeautifulSoup"
   ]
  },
  {
   "cell_type": "code",
   "execution_count": null,
   "id": "0a5bdddb",
   "metadata": {},
   "outputs": [],
   "source": [
    "# Load in the html\n",
    "\n",
    "url = 'https://en.wikipedia.org/wiki/Comma-separated_values'\n",
    "r = requests.get(url)\n",
    "html_content = r.text\n",
    "soup = BeautifulSoup(html_content, 'html.parser')"
   ]
  },
  {
   "cell_type": "code",
   "execution_count": null,
   "id": "caca0bb6",
   "metadata": {},
   "outputs": [],
   "source": [
    "html_content"
   ]
  },
  {
   "cell_type": "code",
   "execution_count": null,
   "id": "99bee3bb",
   "metadata": {},
   "outputs": [],
   "source": [
    "# Print out a formatted tree\n",
    "print(soup.prettify())"
   ]
  },
  {
   "cell_type": "code",
   "execution_count": null,
   "id": "329d2b53",
   "metadata": {},
   "outputs": [],
   "source": [
    "# Title of the page\n",
    "print(soup.title)"
   ]
  },
  {
   "cell_type": "code",
   "execution_count": null,
   "id": "1077ef97",
   "metadata": {},
   "outputs": [],
   "source": [
    "# Get attributes\n",
    "print(soup.title.name)"
   ]
  },
  {
   "cell_type": "code",
   "execution_count": null,
   "id": "a26d164e",
   "metadata": {},
   "outputs": [],
   "source": [
    "# Get values\n",
    "print(soup.title.string)"
   ]
  },
  {
   "cell_type": "code",
   "execution_count": null,
   "id": "d8f6f4a2",
   "metadata": {},
   "outputs": [],
   "source": [
    "# Beginning navigation\n",
    "print(soup.title.parent.name)"
   ]
  },
  {
   "cell_type": "code",
   "execution_count": null,
   "id": "3da8e352",
   "metadata": {},
   "outputs": [],
   "source": [
    "# Getting specific values\n",
    "#print(soup.p)"
   ]
  },
  {
   "cell_type": "markdown",
   "id": "a34c65ef",
   "metadata": {},
   "source": [
    "##### Scrape the table format version (1st interpretation)"
   ]
  },
  {
   "cell_type": "code",
   "execution_count": null,
   "id": "3e95fb19",
   "metadata": {},
   "outputs": [],
   "source": [
    "#table1 = soup.findAll(\"table\", {\"class\":\"wikitable\"})[0]\n",
    "table1 = soup.findAll(name=\"table\", attrs={\"class\":\"wikitable\"})[0]\n",
    "table1"
   ]
  },
  {
   "cell_type": "code",
   "execution_count": null,
   "id": "853a2740",
   "metadata": {},
   "outputs": [],
   "source": [
    "tr = table1.findAll(['tr'])\n",
    "tr"
   ]
  },
  {
   "cell_type": "code",
   "execution_count": null,
   "id": "939a6e1e",
   "metadata": {},
   "outputs": [],
   "source": [
    "csvFile = open(\"car.csv\",'wt', newline='', encoding='utf-8')\n",
    "writer = csv.writer(csvFile) \n",
    "\n",
    "try:   \n",
    "        for cell in tr:\n",
    "            #print(\"***cell***: \", cell)\n",
    "            th = cell.find_all('th')\n",
    "            #print(\"===th===: \", th)\n",
    "            th_data = [col.text.strip('\\n') for col in th]\n",
    "            #print(\"===th_data===: \", th_data)\n",
    "            td = cell.find_all('td')\n",
    "            #print(\"===td===: \", td)\n",
    "            row = [i.text.replace('\\n','') for i in td]\n",
    "            #print(\"===td_data===: \",row)\n",
    "            #print(\"<<<th_data+td_data>>>\", th_data+row)\n",
    "            writer.writerow(th_data+row)      \n",
    "        \n",
    "finally:   \n",
    "    csvFile.close()"
   ]
  },
  {
   "cell_type": "code",
   "execution_count": null,
   "id": "c5926d43",
   "metadata": {},
   "outputs": [],
   "source": [
    "# Read from csv file to verify\n",
    "pd.read_csv('car.csv')"
   ]
  },
  {
   "cell_type": "markdown",
   "id": "510c66e8",
   "metadata": {},
   "source": [
    "References:\n",
    "* https://medium.com/analytics-vidhya/web-scraping-html-table-from-wiki-9b18cf169359"
   ]
  },
  {
   "cell_type": "markdown",
   "id": "c94f086f",
   "metadata": {},
   "source": [
    "##### Scrape the CSV format version (2nd interpretation)"
   ]
  },
  {
   "cell_type": "code",
   "execution_count": null,
   "id": "76aa46a8",
   "metadata": {},
   "outputs": [],
   "source": [
    "# Get the example table under the header \"Example\"\n",
    "ths = soup.find(id=\"Example\")\n",
    "table = ths.findNext('pre').text  #find 'pre' tag\n",
    "print(table)"
   ]
  },
  {
   "cell_type": "code",
   "execution_count": null,
   "id": "750f9e02",
   "metadata": {},
   "outputs": [],
   "source": [
    "# Write to csv file\n",
    "f = open('car_alt.csv', 'w')\n",
    "f.write(table)\n",
    "f.close()"
   ]
  },
  {
   "cell_type": "code",
   "execution_count": null,
   "id": "c2b267f2",
   "metadata": {},
   "outputs": [],
   "source": [
    "# Read from csv file to verify\n",
    "pd.read_csv('car_alt.csv')"
   ]
  },
  {
   "cell_type": "markdown",
   "id": "0adabac2",
   "metadata": {},
   "source": [
    "### Using Pandas\n",
    "\n",
    "##### Scrape the table format version (1st interpretation)"
   ]
  },
  {
   "cell_type": "code",
   "execution_count": null,
   "id": "8011d0c1",
   "metadata": {},
   "outputs": [],
   "source": [
    "# Use Pandas read_html to extract all html tables in website\n",
    "\n",
    "dfs  = pd.read_html(url)\n",
    "for df in dfs:\n",
    "    print(\"=====\", df)"
   ]
  },
  {
   "cell_type": "code",
   "execution_count": null,
   "id": "808ed05d",
   "metadata": {},
   "outputs": [],
   "source": [
    "df = dfs[1] # this is the table we want\n",
    "df"
   ]
  },
  {
   "cell_type": "code",
   "execution_count": null,
   "id": "a026e475",
   "metadata": {},
   "outputs": [],
   "source": [
    "# Write to csv file\n",
    "df.to_csv('car2.csv', index=False)\n",
    "\n",
    "# Read from csv file to verify\n",
    "pd.read_csv('car2.csv')"
   ]
  },
  {
   "cell_type": "markdown",
   "id": "7930b694",
   "metadata": {},
   "source": [
    "References:\n",
    "* https://www.youtube.com/watch?v=ODNMNwgtehk"
   ]
  },
  {
   "cell_type": "markdown",
   "id": "ff8925e0",
   "metadata": {},
   "source": [
    "## Using Selenium"
   ]
  },
  {
   "cell_type": "markdown",
   "id": "810db297",
   "metadata": {},
   "source": [
    "##### Install and Load"
   ]
  },
  {
   "cell_type": "code",
   "execution_count": null,
   "id": "a5399c72",
   "metadata": {},
   "outputs": [],
   "source": [
    "# Install Selenium\n",
    "#!pip install selenium\n",
    "\n",
    "# Install Chromedriver\n",
    "# Download from https://chromedriver.chromium.org/downloads and store it on your computer\n",
    "\n",
    "from selenium import webdriver\n",
    "from selenium.webdriver.common.keys import Keys\n",
    "import pandas as pd"
   ]
  },
  {
   "cell_type": "code",
   "execution_count": null,
   "id": "ec84c9ad",
   "metadata": {},
   "outputs": [],
   "source": [
    "# Provide path of downloaded Chromedriver; your location may differ\n",
    "driver = webdriver.Chrome(executable_path=\"C:\\webdrivers\\chromedriver.exe\")  \n",
    "\n",
    "url = 'https://en.wikipedia.org/wiki/Comma-separated_values'\n",
    "driver.get(url)\n",
    "driver.maximize_window()"
   ]
  },
  {
   "cell_type": "markdown",
   "id": "69b4e2d8",
   "metadata": {},
   "source": [
    "Methods of Selenium to find multiple elements on a web page. \n",
    "\n",
    "To find single element, replace `elements` by `element`\n",
    "\n",
    "* find_elements_by_name\n",
    "* find_elements_by_xpath\n",
    "* find_elements_by_link_text\n",
    "* find_elements_by_partial_link_text\n",
    "* find_elements_by_tag_name\n",
    "* find_elements_by_class_name\n",
    "* find_elements_by_css_selector"
   ]
  },
  {
   "cell_type": "markdown",
   "id": "4005584a",
   "metadata": {},
   "source": [
    "##### Scrape the table format version (1st interpretation)"
   ]
  },
  {
   "cell_type": "code",
   "execution_count": null,
   "id": "3799ab59",
   "metadata": {},
   "outputs": [],
   "source": [
    "# Method 1 - Extract table by xpath\n",
    "#driver.find_element_by_xpath('//*[@id=\"mw-content-text\"]/div[1]/table[2]').get_attribute('outerHTML')\n",
    "df_tmp = pd.read_html(driver.find_element_by_xpath('//*[@id=\"mw-content-text\"]/div[1]/table[2]').get_attribute('outerHTML'))[0]\n",
    "df_tmp"
   ]
  },
  {
   "cell_type": "code",
   "execution_count": null,
   "id": "e04cc813",
   "metadata": {},
   "outputs": [],
   "source": [
    "# Method 2 - Extract table by tag name\n",
    "elements = driver.find_elements_by_tag_name('table') #extract list of elements\n",
    "\n",
    "for i in range(len(elements)):\n",
    "    print(\"=====\", elements[i].get_attribute('outerHTML'))"
   ]
  },
  {
   "cell_type": "code",
   "execution_count": null,
   "id": "841f0d66",
   "metadata": {},
   "outputs": [],
   "source": [
    "# Extract the table that we want\n",
    "df_tmp = pd.read_html(elements[1].get_attribute('outerHTML'))[0]  #the second table is the one we want\n",
    "df_tmp"
   ]
  },
  {
   "cell_type": "code",
   "execution_count": null,
   "id": "fdc1606a",
   "metadata": {},
   "outputs": [],
   "source": [
    "# Write to CSV file\n",
    "df_tmp.to_csv('car3.csv', index=False)\n",
    "\n",
    "# Read from CSV file to verify\n",
    "pd.read_csv('car3.csv')"
   ]
  },
  {
   "cell_type": "markdown",
   "id": "1ac44221",
   "metadata": {},
   "source": [
    "##### Scrape the CSV format version (2nd interpretation)"
   ]
  },
  {
   "cell_type": "code",
   "execution_count": null,
   "id": "4249bc0c",
   "metadata": {},
   "outputs": [],
   "source": [
    "# Extract table by tag name\n",
    "elements = driver.find_elements_by_xpath('//*[@id=\"mw-content-text\"]/div[1]/pre[1]')\n",
    "\n",
    "for i in range(len(elements)):\n",
    "    print(\"=====\", elements[i].get_attribute('outerHTML'))"
   ]
  },
  {
   "cell_type": "code",
   "execution_count": null,
   "id": "ddf37809",
   "metadata": {},
   "outputs": [],
   "source": [
    "table = elements[0].text\n",
    "table"
   ]
  },
  {
   "cell_type": "code",
   "execution_count": null,
   "id": "e9570023",
   "metadata": {},
   "outputs": [],
   "source": [
    "f = open('car3_alt.csv', 'w')\n",
    "f.write(table)\n",
    "f.close()"
   ]
  },
  {
   "cell_type": "code",
   "execution_count": null,
   "id": "7db86e71",
   "metadata": {},
   "outputs": [],
   "source": [
    "pd.read_csv('car3_alt.csv')"
   ]
  },
  {
   "cell_type": "code",
   "execution_count": null,
   "id": "d3771168",
   "metadata": {},
   "outputs": [],
   "source": []
  }
 ],
 "metadata": {
  "kernelspec": {
   "display_name": "Python 3",
   "language": "python",
   "name": "python3"
  },
  "language_info": {
   "codemirror_mode": {
    "name": "ipython",
    "version": 3
   },
   "file_extension": ".py",
   "mimetype": "text/x-python",
   "name": "python",
   "nbconvert_exporter": "python",
   "pygments_lexer": "ipython3",
   "version": "3.8.8"
  }
 },
 "nbformat": 4,
 "nbformat_minor": 5
}
