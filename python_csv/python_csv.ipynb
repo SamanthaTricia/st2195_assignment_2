{
 "cells": [
  {
   "cell_type": "code",
   "execution_count": 54,
   "id": "bab25ce5",
   "metadata": {},
   "outputs": [],
   "source": [
    "import requests\n",
    "import csv\n",
    "from bs4 import BeautifulSoup as bs\n",
    "import pandas as pd"
   ]
  },
  {
   "cell_type": "code",
   "execution_count": 55,
   "id": "f4347941",
   "metadata": {},
   "outputs": [],
   "source": [
    "url = requests.get(\"https://en.wikipedia.org/wiki/Comma-separated_values\")\n",
    "soup = bs(url.content, 'html.parser')"
   ]
  },
  {
   "cell_type": "code",
   "execution_count": 56,
   "id": "4eaee059",
   "metadata": {},
   "outputs": [],
   "source": [
    "filename = \"python_csv.csv\"\n",
    "csv_writer = csv.writer(open(filename, 'w'))"
   ]
  },
  {
   "cell_type": "code",
   "execution_count": 57,
   "id": "2fa43d19",
   "metadata": {},
   "outputs": [],
   "source": [
    "car_table = soup.findAll('table', class_ = 'wikitable')[0]"
   ]
  },
  {
   "cell_type": "code",
   "execution_count": 58,
   "id": "74169da2",
   "metadata": {},
   "outputs": [
    {
     "data": {
      "text/plain": [
       "<table class=\"wikitable\">\n",
       "<tbody><tr>\n",
       "<th>Year</th>\n",
       "<th>Make</th>\n",
       "<th>Model</th>\n",
       "<th>Description</th>\n",
       "<th>Price\n",
       "</th></tr>\n",
       "<tr>\n",
       "<td>1997</td>\n",
       "<td>Ford</td>\n",
       "<td>E350</td>\n",
       "<td>ac, abs, moon</td>\n",
       "<td>3000.00\n",
       "</td></tr>\n",
       "<tr>\n",
       "<td>1999</td>\n",
       "<td>Chevy</td>\n",
       "<td>Venture \"Extended Edition\"</td>\n",
       "<td></td>\n",
       "<td>4900.00\n",
       "</td></tr>\n",
       "<tr>\n",
       "<td>1999</td>\n",
       "<td>Chevy</td>\n",
       "<td>Venture \"Extended Edition, Very Large\"</td>\n",
       "<td></td>\n",
       "<td>5000.00\n",
       "</td></tr>\n",
       "<tr>\n",
       "<td>1996</td>\n",
       "<td>Jeep</td>\n",
       "<td>Grand Cherokee</td>\n",
       "<td>MUST SELL!<br/>air, moon roof, loaded</td>\n",
       "<td>4799.00\n",
       "</td></tr></tbody></table>"
      ]
     },
     "execution_count": 58,
     "metadata": {},
     "output_type": "execute_result"
    }
   ],
   "source": [
    "car_table"
   ]
  },
  {
   "cell_type": "code",
   "execution_count": 59,
   "id": "0101304d",
   "metadata": {},
   "outputs": [
    {
     "data": {
      "text/plain": [
       "[<tr>\n",
       " <th>Year</th>\n",
       " <th>Make</th>\n",
       " <th>Model</th>\n",
       " <th>Description</th>\n",
       " <th>Price\n",
       " </th></tr>,\n",
       " <tr>\n",
       " <td>1997</td>\n",
       " <td>Ford</td>\n",
       " <td>E350</td>\n",
       " <td>ac, abs, moon</td>\n",
       " <td>3000.00\n",
       " </td></tr>,\n",
       " <tr>\n",
       " <td>1999</td>\n",
       " <td>Chevy</td>\n",
       " <td>Venture \"Extended Edition\"</td>\n",
       " <td></td>\n",
       " <td>4900.00\n",
       " </td></tr>,\n",
       " <tr>\n",
       " <td>1999</td>\n",
       " <td>Chevy</td>\n",
       " <td>Venture \"Extended Edition, Very Large\"</td>\n",
       " <td></td>\n",
       " <td>5000.00\n",
       " </td></tr>,\n",
       " <tr>\n",
       " <td>1996</td>\n",
       " <td>Jeep</td>\n",
       " <td>Grand Cherokee</td>\n",
       " <td>MUST SELL!<br/>air, moon roof, loaded</td>\n",
       " <td>4799.00\n",
       " </td></tr>]"
      ]
     },
     "execution_count": 59,
     "metadata": {},
     "output_type": "execute_result"
    }
   ],
   "source": [
    "tr = car_table.findAll(['tr'])\n",
    "tr"
   ]
  },
  {
   "cell_type": "code",
   "execution_count": 60,
   "id": "3b024fb5",
   "metadata": {},
   "outputs": [],
   "source": [
    "csvFile = open('car.csv', 'wt', newline='', encoding='utf-8')\n",
    "writer = csv.writer(csvFile)\n",
    "\n",
    "try: \n",
    "    for cell in tr:\n",
    "        th = cell.find_all('th')\n",
    "        th_data =[col.text.strip('\\n') for col in th]\n",
    "        td = cell.find_all('td')\n",
    "        row =[i.text.replace('\\n','') for i in td]\n",
    "        writer.writerow(th_data+row)\n",
    "        \n",
    "finally:\n",
    "    csvFile.close()"
   ]
  },
  {
   "cell_type": "code",
   "execution_count": 61,
   "id": "23ffd4aa",
   "metadata": {},
   "outputs": [
    {
     "data": {
      "text/html": [
       "<div>\n",
       "<style scoped>\n",
       "    .dataframe tbody tr th:only-of-type {\n",
       "        vertical-align: middle;\n",
       "    }\n",
       "\n",
       "    .dataframe tbody tr th {\n",
       "        vertical-align: top;\n",
       "    }\n",
       "\n",
       "    .dataframe thead th {\n",
       "        text-align: right;\n",
       "    }\n",
       "</style>\n",
       "<table border=\"1\" class=\"dataframe\">\n",
       "  <thead>\n",
       "    <tr style=\"text-align: right;\">\n",
       "      <th></th>\n",
       "      <th>Year</th>\n",
       "      <th>Make</th>\n",
       "      <th>Model</th>\n",
       "      <th>Description</th>\n",
       "      <th>Price</th>\n",
       "    </tr>\n",
       "  </thead>\n",
       "  <tbody>\n",
       "    <tr>\n",
       "      <th>0</th>\n",
       "      <td>1997</td>\n",
       "      <td>Ford</td>\n",
       "      <td>E350</td>\n",
       "      <td>ac, abs, moon</td>\n",
       "      <td>3000.0</td>\n",
       "    </tr>\n",
       "    <tr>\n",
       "      <th>1</th>\n",
       "      <td>1999</td>\n",
       "      <td>Chevy</td>\n",
       "      <td>Venture \"Extended Edition\"</td>\n",
       "      <td>NaN</td>\n",
       "      <td>4900.0</td>\n",
       "    </tr>\n",
       "    <tr>\n",
       "      <th>2</th>\n",
       "      <td>1999</td>\n",
       "      <td>Chevy</td>\n",
       "      <td>Venture \"Extended Edition, Very Large\"</td>\n",
       "      <td>NaN</td>\n",
       "      <td>5000.0</td>\n",
       "    </tr>\n",
       "    <tr>\n",
       "      <th>3</th>\n",
       "      <td>1996</td>\n",
       "      <td>Jeep</td>\n",
       "      <td>Grand Cherokee</td>\n",
       "      <td>MUST SELL!air, moon roof, loaded</td>\n",
       "      <td>4799.0</td>\n",
       "    </tr>\n",
       "  </tbody>\n",
       "</table>\n",
       "</div>"
      ],
      "text/plain": [
       "   Year   Make                                   Model  \\\n",
       "0  1997   Ford                                    E350   \n",
       "1  1999  Chevy              Venture \"Extended Edition\"   \n",
       "2  1999  Chevy  Venture \"Extended Edition, Very Large\"   \n",
       "3  1996   Jeep                          Grand Cherokee   \n",
       "\n",
       "                        Description   Price  \n",
       "0                     ac, abs, moon  3000.0  \n",
       "1                               NaN  4900.0  \n",
       "2                               NaN  5000.0  \n",
       "3  MUST SELL!air, moon roof, loaded  4799.0  "
      ]
     },
     "execution_count": 61,
     "metadata": {},
     "output_type": "execute_result"
    }
   ],
   "source": [
    "df1 = pd.read_csv('car.csv')\n",
    "df1"
   ]
  },
  {
   "cell_type": "code",
   "execution_count": null,
   "id": "12e3fa71",
   "metadata": {},
   "outputs": [],
   "source": []
  }
 ],
 "metadata": {
  "kernelspec": {
   "display_name": "Python 3",
   "language": "python",
   "name": "python3"
  },
  "language_info": {
   "codemirror_mode": {
    "name": "ipython",
    "version": 3
   },
   "file_extension": ".py",
   "mimetype": "text/x-python",
   "name": "python",
   "nbconvert_exporter": "python",
   "pygments_lexer": "ipython3",
   "version": "3.8.8"
  }
 },
 "nbformat": 4,
 "nbformat_minor": 5
}
